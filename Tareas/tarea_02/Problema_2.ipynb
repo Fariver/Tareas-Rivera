{
  "nbformat": 4,
  "nbformat_minor": 0,
  "metadata": {
    "colab": {
      "provenance": []
    },
    "kernelspec": {
      "name": "python3",
      "display_name": "Python 3"
    },
    "language_info": {
      "name": "python"
    }
  },
  "cells": [
    {
      "cell_type": "markdown",
      "source": [
        "# Tarea 2 - Narración Gráfica - Fernanda Rivera Robledo\n",
        "### Problema 2: Hacer un programa que imprima los números del 1 al 100 que sean divisibles entre 3 (con resto 0)\n",
        "\n"
      ],
      "metadata": {
        "id": "TmOMIMjPKyPi"
      }
    },
    {
      "cell_type": "code",
      "execution_count": null,
      "metadata": {
        "colab": {
          "base_uri": "https://localhost:8080/"
        },
        "id": "_VcUbAG5KsEe",
        "outputId": "c0f3ec12-fbff-44bc-cdd7-61f225ea02aa"
      },
      "outputs": [
        {
          "output_type": "stream",
          "name": "stdout",
          "text": [
            "3\n",
            "6\n",
            "9\n",
            "12\n",
            "15\n",
            "18\n",
            "21\n",
            "24\n",
            "27\n",
            "30\n",
            "33\n",
            "36\n",
            "39\n",
            "42\n",
            "45\n",
            "48\n",
            "51\n",
            "54\n",
            "57\n",
            "60\n",
            "63\n",
            "66\n",
            "69\n",
            "72\n",
            "75\n",
            "78\n",
            "81\n",
            "84\n",
            "87\n",
            "90\n",
            "93\n",
            "96\n",
            "99\n"
          ]
        }
      ],
      "source": [
        "# Problema 2: Imprimir los números del 1 al 100 que son divisibles por 3 (resto 0)\n",
        "# Usé un loop for. para indicar el rango de números.\n",
        "for num in range(1, 101):\n",
        "# Con if. se verifica qué números son divisibles por 3\n",
        "    if num % 3 == 0:\n",
        "# Aquellos números que cumplan con la condición se imprimen con print.\n",
        "        print(num)"
      ]
    }
  ]
}