{
  "nbformat": 4,
  "nbformat_minor": 0,
  "metadata": {
    "colab": {
      "provenance": []
    },
    "kernelspec": {
      "name": "python3",
      "display_name": "Python 3"
    },
    "language_info": {
      "name": "python"
    }
  },
  "cells": [
    {
      "cell_type": "markdown",
      "source": [
        "# Tarea 2 - Narración Gráfica - Fernanda Rivera Robledo\n",
        "### Problema 4: Generar un programa que combine variables, tipos de datos y una condicional en Python (hacer una función que evalúe si el usuario es mayor de edad y si le gusta la programación, que envíe diferentes textos según la respuesta del usuario).\n"
      ],
      "metadata": {
        "id": "XcnolsvljRGe"
      }
    },
    {
      "cell_type": "code",
      "source": [
        "# Problema 4: Evaluar si el usuario es mayor de edad y si le gusta la programación\n",
        "\n",
        "# Función para evaluar la edad y si le gusta programar\n",
        "def evaluar_usuario():\n",
        "    # Leer edad del usuario\n",
        "    edad = int(input(\"¿Cuántos años tienes?: \"))\n",
        "\n",
        "    # Leer si le gusta programar\n",
        "    gusta_programar = input(\"¿Te gusta programar? (sí/no): \")\n",
        "\n",
        "    # Se condiciona si es mayor o menor de 18 años para cada respuesta.\n",
        "    if edad > 18:\n",
        "        resultado = \"Eres mayor de edad\"\n",
        "    else:\n",
        "        resultado = \"No eres mayor de edad\"\n",
        "\n",
        "    # Se verifica si el usuario respondió \"sí\" o \"no\". Tambén para condicionar\n",
        "    # la respuesta\n",
        "    if gusta_programar == \"sí\":\n",
        "        resultado += \" y te gusta programar\"\n",
        "    else:\n",
        "        resultado += \" y no te gusta programar\"\n",
        "\n",
        "    # Se imprime el resultado de ambas respuestas en base a las condiciones\n",
        "    print(resultado)\n",
        "\n",
        "# Nombre de la función\n",
        "evaluar_usuario()\n"
      ],
      "metadata": {
        "colab": {
          "base_uri": "https://localhost:8080/"
        },
        "id": "V1DoyzNwnptC",
        "outputId": "89e835b7-d9bc-48a9-f3a4-d57949062274"
      },
      "execution_count": 7,
      "outputs": [
        {
          "output_type": "stream",
          "name": "stdout",
          "text": [
            "¿Cuántos años tienes?: 21\n",
            "¿Te gusta programar? (sí/no): no\n",
            "Eres mayor de edad y no te gusta programar\n"
          ]
        }
      ]
    },
    {
      "cell_type": "markdown",
      "source": [
        "El algoritmo funciona, respondí que tengo 21 años y no me gusta progrmar. Y responde por las variables de manera independiente con \"Eres mayor de edad y no te gusta programar\"."
      ],
      "metadata": {
        "id": "3Pfa7Knarg08"
      }
    }
  ]
}