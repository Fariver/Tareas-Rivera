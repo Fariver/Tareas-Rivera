{
  "nbformat": 4,
  "nbformat_minor": 0,
  "metadata": {
    "colab": {
      "provenance": []
    },
    "kernelspec": {
      "name": "python3",
      "display_name": "Python 3"
    },
    "language_info": {
      "name": "python"
    }
  },
  "cells": [
    {
      "cell_type": "markdown",
      "source": [
        "#Tarea 2 - Narración Gráfica - Fernanda Rivera Robledo\n"
      ],
      "metadata": {
        "id": "pJhI1Z69Bgju"
      }
    },
    {
      "cell_type": "markdown",
      "source": [
        "Problema 1"
      ],
      "metadata": {
        "id": "LLz8SZ1eDqjY"
      }
    },
    {
      "cell_type": "code",
      "source": [
        "# Problema 1: Imprimir los números del 1 al 100\n",
        "\n",
        "for num in range(1, 101):\n",
        "    print(num)"
      ],
      "metadata": {
        "colab": {
          "base_uri": "https://localhost:8080/"
        },
        "collapsed": true,
        "id": "YHy_K7wGB5ju",
        "outputId": "2aa36b3b-5544-4a39-f96e-db96d2a26982"
      },
      "execution_count": null,
      "outputs": [
        {
          "output_type": "stream",
          "name": "stdout",
          "text": [
            "1\n",
            "2\n",
            "3\n",
            "4\n",
            "5\n",
            "6\n",
            "7\n",
            "8\n",
            "9\n",
            "10\n",
            "11\n",
            "12\n",
            "13\n",
            "14\n",
            "15\n",
            "16\n",
            "17\n",
            "18\n",
            "19\n",
            "20\n",
            "21\n",
            "22\n",
            "23\n",
            "24\n",
            "25\n",
            "26\n",
            "27\n",
            "28\n",
            "29\n",
            "30\n",
            "31\n",
            "32\n",
            "33\n",
            "34\n",
            "35\n",
            "36\n",
            "37\n",
            "38\n",
            "39\n",
            "40\n",
            "41\n",
            "42\n",
            "43\n",
            "44\n",
            "45\n",
            "46\n",
            "47\n",
            "48\n",
            "49\n",
            "50\n",
            "51\n",
            "52\n",
            "53\n",
            "54\n",
            "55\n",
            "56\n",
            "57\n",
            "58\n",
            "59\n",
            "60\n",
            "61\n",
            "62\n",
            "63\n",
            "64\n",
            "65\n",
            "66\n",
            "67\n",
            "68\n",
            "69\n",
            "70\n",
            "71\n",
            "72\n",
            "73\n",
            "74\n",
            "75\n",
            "76\n",
            "77\n",
            "78\n",
            "79\n",
            "80\n",
            "81\n",
            "82\n",
            "83\n",
            "84\n",
            "85\n",
            "86\n",
            "87\n",
            "88\n",
            "89\n",
            "90\n",
            "91\n",
            "92\n",
            "93\n",
            "94\n",
            "95\n",
            "96\n",
            "97\n",
            "98\n",
            "99\n",
            "100\n"
          ]
        }
      ]
    },
    {
      "cell_type": "markdown",
      "source": [
        "Problema 2"
      ],
      "metadata": {
        "id": "TLUePnqaDco-"
      }
    },
    {
      "cell_type": "code",
      "source": [
        "# Problema 2: Imprimir los números del 1 al 100 que son divisibles por 3 (resto 0)\n",
        "\n",
        "for num in range(1, 101):\n",
        "    if num % 3 == 0:\n",
        "        print(num)"
      ],
      "metadata": {
        "colab": {
          "base_uri": "https://localhost:8080/"
        },
        "collapsed": true,
        "id": "Y4O9pfYyDgIn",
        "outputId": "43e803d6-1ef0-4441-ba98-7bd608d21244"
      },
      "execution_count": null,
      "outputs": [
        {
          "output_type": "stream",
          "name": "stdout",
          "text": [
            "3\n",
            "6\n",
            "9\n",
            "12\n",
            "15\n",
            "18\n",
            "21\n",
            "24\n",
            "27\n",
            "30\n",
            "33\n",
            "36\n",
            "39\n",
            "42\n",
            "45\n",
            "48\n",
            "51\n",
            "54\n",
            "57\n",
            "60\n",
            "63\n",
            "66\n",
            "69\n",
            "72\n",
            "75\n",
            "78\n",
            "81\n",
            "84\n",
            "87\n",
            "90\n",
            "93\n",
            "96\n",
            "99\n"
          ]
        }
      ]
    },
    {
      "cell_type": "markdown",
      "source": [
        "Problema 3"
      ],
      "metadata": {
        "id": "P8kVcabGDyLa"
      }
    },
    {
      "cell_type": "code",
      "source": [
        "# Problema 3: Sumador y comparador de dos números\n",
        "# Realiza el algoritmo para un sumador de dos números. Si el resultado es menor a 100 se mostrará el mensaje \"menor a 100\", si el\n",
        "# resultado es mayor a 100, pero menor a 150 mostrará el mensaje \"mayor a 100\", pero si es mayor a 150 mostrará el mensaje\n",
        "# \"mayor a 150\".\n",
        "\n",
        "\n",
        "numero1 = int(input(\"Ingresa el primer número: \"))\n",
        "numero2 = int(input(\"Ingresa el segundo número: \"))\n",
        "\n",
        "suma = numero1 + numero2\n",
        "\n",
        "if suma < 100:\n",
        "    resultado = \"es menor a 100\"\n",
        "elif 100 < suma < 150:\n",
        "    resultado = \"es mayor a 100 y menor a 150\"\n",
        "else:\n",
        "    resultado = \"es mayor a 150\"\n",
        "\n",
        "print(resultado)\n"
      ],
      "metadata": {
        "id": "Pm0XIPEADzjl"
      },
      "execution_count": null,
      "outputs": []
    },
    {
      "cell_type": "markdown",
      "source": [
        "Problema 4"
      ],
      "metadata": {
        "id": "tUNsUCL8FRZ1"
      }
    },
    {
      "cell_type": "code",
      "source": [],
      "metadata": {
        "id": "-n3HxsH3GEFH"
      },
      "execution_count": null,
      "outputs": []
    },
    {
      "cell_type": "code",
      "source": [
        "# Problema 4: Evaluar si el usuario es mayor de edad y si le gusta programar.\n",
        "# Generar un programa que combine variables, tipos de datos y una condicional (hacer una función que evalúe si el usuario es mayor\n",
        "# de edad y si le gusta la programación, que envíe diferentes textos según la respuesta del usuario).\n",
        "\n",
        "def evaluar_usuario():\n",
        "    edad = int(input(\"¿Cuántos años tienes?: \"))\n",
        "    gusta_programar = input(\"¿Te gusta programar? (sí/no): \").strip().lower()\n",
        "\n",
        "    if edad >= 18 and gusta_programar == 'sí':\n",
        "        mensaje = \"Eres mayor de edad y te gusta programar\"\n",
        "    elif edad >= 18 and gusta_programar == 'no':\n",
        "        mensaje = \"Eres mayor de edad, pero no te gusta programar\"\n",
        "    elif edad < 18 and gusta_programar == 'sí':\n",
        "        mensaje = \"No eres mayor de edad, pero te gusta programar\"\n",
        "    else:\n",
        "        mensaje = \"No eres mayor de edad y no te gusta programar\"\n",
        "\n",
        "    print(mensaje)\n",
        "\n",
        "# Llamar a la función\n",
        "evaluar_usuario()\n",
        "\n"
      ],
      "metadata": {
        "colab": {
          "base_uri": "https://localhost:8080/"
        },
        "id": "C6ngzD84FULa",
        "outputId": "f1c7878a-2ed5-42f5-ab68-9dad3ac0d6f0"
      },
      "execution_count": null,
      "outputs": [
        {
          "output_type": "stream",
          "name": "stdout",
          "text": [
            "¿Cuántos años tienes?: 21\n",
            "¿Te gusta programar? (sí/no): no\n",
            "Eres mayor de edad, pero no te gusta programar\n"
          ]
        }
      ]
    }
  ]
}