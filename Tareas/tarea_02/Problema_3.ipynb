{
  "nbformat": 4,
  "nbformat_minor": 0,
  "metadata": {
    "colab": {
      "provenance": []
    },
    "kernelspec": {
      "name": "python3",
      "display_name": "Python 3"
    },
    "language_info": {
      "name": "python"
    }
  },
  "cells": [
    {
      "cell_type": "markdown",
      "source": [
        "# Tarea 2 - Narración Gráfica - Fernanda Rivera Robledo\n",
        "### Problema 3: Sumador y comparador de dos números\n",
        "### Realiza el algoritmo para un sumador de dos números. Si el resultado es menor a 100 se mostrará el mensaje \"menor a 100\", si el resultado es mayor a 100, pero menor a 150 mostrará el mensaje \"mayor a 100\", pero si es mayor a 150 mostrará el mensaje \"mayor a 150\"."
      ],
      "metadata": {
        "id": "RxmAk8WQgO-6"
      }
    },
    {
      "cell_type": "code",
      "execution_count": 3,
      "metadata": {
        "colab": {
          "base_uri": "https://localhost:8080/"
        },
        "id": "LejIJywofzLH",
        "outputId": "0a645d5a-83ff-4a7e-b26c-95ea8620da3e"
      },
      "outputs": [
        {
          "output_type": "stream",
          "name": "stdout",
          "text": [
            "Ingresa el primer número: 45\n",
            "Ingresa el segundo número: 84\n",
            "es mayor a 100 y menor a 150\n"
          ]
        }
      ],
      "source": [
        "# Problema 3: Sumador y comparador de dos números\n",
        "\n",
        "# Primero se pide que se ingresen dos números\n",
        "numero1 = int(input(\"Ingresa el primer número: \"))\n",
        "numero2 = int(input(\"Ingresa el segundo número: \"))\n",
        "\n",
        "# Se calcula la suma de los dos números\n",
        "suma = numero1 + numero2\n",
        "\n",
        "# Con los condicionales el algoritmo evalúa la suma para mostrar el mensaje correspondiente.\n",
        "if suma < 100:\n",
        "      # Si (suma < 100) entonces\n",
        "    print(\"La suma es menor a 100\")\n",
        "else:\n",
        "    # Si no, se evalua si la suma está entre 100 y 150\n",
        "    if 100 < suma < 150:\n",
        "        # Si (suma > 100 y suma < 150) entonces\n",
        "        resultado = \"es mayor a 100 y menor a 150\"\n",
        "    else:\n",
        "        # Si no, entonces el número es mayor a 150\n",
        "        resultado = \"es mayor a 150\"\n",
        "\n",
        "# Se imprime resultado con print. es decir bajo que condición entra cada número\n",
        "print(resultado)"
      ]
    },
    {
      "cell_type": "markdown",
      "source": [
        "Se puede ver que el algoritmo funciona, ingresé como primer número 45 y luego 84 ambos suman 129. Y la respuesta fue correcta \"es mayor a 100 y menor a 150\"."
      ],
      "metadata": {
        "id": "X-LtGoBDqzhG"
      }
    }
  ]
}